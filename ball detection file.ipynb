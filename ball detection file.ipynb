{
 "cells": [
  {
   "cell_type": "code",
   "execution_count": 1,
   "id": "24822055",
   "metadata": {},
   "outputs": [],
   "source": [
    "import tensorflow as tf"
   ]
  },
  {
   "cell_type": "code",
   "execution_count": 2,
   "id": "2cee8612",
   "metadata": {},
   "outputs": [
    {
     "name": "stdout",
     "output_type": "stream",
     "text": [
      "ds\n"
     ]
    }
   ],
   "source": [
    "print(\"ds\")"
   ]
  },
  {
   "cell_type": "code",
   "execution_count": 4,
   "id": "ae8f742e",
   "metadata": {},
   "outputs": [
    {
     "name": "stdout",
     "output_type": "stream",
     "text": [
      "Name: tensorflow\n",
      "Version: 2.3.0\n",
      "Summary: TensorFlow is an open source machine learning framework for everyone.\n",
      "Home-page: https://www.tensorflow.org/\n",
      "Author: Google Inc.\n",
      "Author-email: packages@tensorflow.org\n",
      "License: Apache 2.0\n",
      "Location: c:\\users\\subhr\\anaconda3\\envs\\tf-gpu-cuda8\\lib\\site-packages\n",
      "Requires: absl-py, astunparse, gast, google-pasta, grpcio, h5py, keras-preprocessing, numpy, opt-einsum, protobuf, scipy, six, tensorboard, tensorflow-estimator, termcolor, wheel, wrapt\n",
      "Required-by: \n"
     ]
    }
   ],
   "source": [
    "!pip show tensorflow"
   ]
  },
  {
   "cell_type": "code",
   "execution_count": 5,
   "id": "a821cdca",
   "metadata": {},
   "outputs": [
    {
     "name": "stdout",
     "output_type": "stream",
     "text": [
      "Collecting keras==2.4.3\n",
      "  Downloading Keras-2.4.3-py2.py3-none-any.whl (36 kB)\n",
      "Collecting numpy==1.19.3\n",
      "  Downloading numpy-1.19.3-cp38-cp38-win_amd64.whl (13.3 MB)\n",
      "     --------------------------------------- 13.3/13.3 MB 12.1 MB/s eta 0:00:00\n",
      "Collecting pillow==7.0.0\n",
      "  Downloading Pillow-7.0.0-cp38-cp38-win_amd64.whl (2.0 MB)\n",
      "     ---------------------------------------- 2.0/2.0 MB 43.1 MB/s eta 0:00:00\n",
      "Collecting scipy==1.4.1\n",
      "  Downloading scipy-1.4.1-cp38-cp38-win_amd64.whl (31.0 MB)\n",
      "     --------------------------------------- 31.0/31.0 MB 16.4 MB/s eta 0:00:00\n",
      "Requirement already satisfied: h5py==2.10.0 in c:\\users\\subhr\\anaconda3\\envs\\tf-gpu-cuda8\\lib\\site-packages (2.10.0)\n",
      "Collecting matplotlib==3.3.2\n",
      "  Downloading matplotlib-3.3.2-cp38-cp38-win_amd64.whl (8.5 MB)\n",
      "     ---------------------------------------- 8.5/8.5 MB 23.6 MB/s eta 0:00:00\n",
      "Collecting opencv-python\n",
      "  Using cached opencv_python-4.6.0.66-cp36-abi3-win_amd64.whl (35.6 MB)\n",
      "Collecting keras-resnet==0.2.0\n",
      "  Downloading keras-resnet-0.2.0.tar.gz (9.3 kB)\n",
      "  Preparing metadata (setup.py): started\n",
      "  Preparing metadata (setup.py): finished with status 'done'\n",
      "Collecting pyyaml\n",
      "  Downloading PyYAML-6.0-cp38-cp38-win_amd64.whl (155 kB)\n",
      "     -------------------------------------- 155.4/155.4 kB 9.1 MB/s eta 0:00:00\n",
      "Requirement already satisfied: six in c:\\users\\subhr\\anaconda3\\envs\\tf-gpu-cuda8\\lib\\site-packages (from h5py==2.10.0) (1.16.0)\n",
      "Collecting python-dateutil>=2.1\n",
      "  Using cached python_dateutil-2.8.2-py2.py3-none-any.whl (247 kB)\n",
      "Requirement already satisfied: certifi>=2020.06.20 in c:\\users\\subhr\\anaconda3\\envs\\tf-gpu-cuda8\\lib\\site-packages (from matplotlib==3.3.2) (2022.9.24)\n",
      "Collecting kiwisolver>=1.0.1\n",
      "  Downloading kiwisolver-1.4.4-cp38-cp38-win_amd64.whl (55 kB)\n",
      "     ---------------------------------------- 55.4/55.4 kB 3.0 MB/s eta 0:00:00\n",
      "Collecting cycler>=0.10\n",
      "  Using cached cycler-0.11.0-py3-none-any.whl (6.4 kB)\n",
      "Collecting pyparsing!=2.0.4,!=2.1.2,!=2.1.6,>=2.0.3\n",
      "  Using cached pyparsing-3.0.9-py3-none-any.whl (98 kB)\n",
      "Building wheels for collected packages: keras-resnet\n",
      "  Building wheel for keras-resnet (setup.py): started\n",
      "  Building wheel for keras-resnet (setup.py): finished with status 'done'\n",
      "  Created wheel for keras-resnet: filename=keras_resnet-0.2.0-py2.py3-none-any.whl size=20461 sha256=40ef3be11e3b931d5fee16d0613d4bfdbcc543385b666ebc9e64ad1488a9a88c\n",
      "  Stored in directory: c:\\users\\subhr\\appdata\\local\\pip\\cache\\wheels\\ed\\9d\\eb\\174dbc8a8d8eefe2712ef36bc9e65357a63390128a5526d2b5\n",
      "Successfully built keras-resnet\n",
      "Installing collected packages: pyyaml, python-dateutil, pyparsing, pillow, numpy, kiwisolver, cycler, scipy, opencv-python, matplotlib, keras, keras-resnet\n",
      "  Attempting uninstall: numpy\n",
      "    Found existing installation: numpy 1.23.4\n",
      "    Uninstalling numpy-1.23.4:\n",
      "      Successfully uninstalled numpy-1.23.4\n",
      "  Attempting uninstall: scipy\n",
      "    Found existing installation: scipy 1.9.3\n",
      "    Uninstalling scipy-1.9.3:\n",
      "      Successfully uninstalled scipy-1.9.3\n",
      "Successfully installed cycler-0.11.0 keras-2.4.3 keras-resnet-0.2.0 kiwisolver-1.4.4 matplotlib-3.3.2 numpy-1.19.3 opencv-python-4.6.0.66 pillow-7.0.0 pyparsing-3.0.9 python-dateutil-2.8.2 pyyaml-6.0 scipy-1.4.1\n"
     ]
    },
    {
     "name": "stderr",
     "output_type": "stream",
     "text": [
      "ERROR: pip's dependency resolver does not currently take into account all the packages that are installed. This behaviour is the source of the following dependency conflicts.\n",
      "tensorflow 2.3.0 requires gast==0.3.3, but you have gast 0.4.0 which is incompatible.\n",
      "tensorflow 2.3.0 requires numpy<1.19.0,>=1.16.0, but you have numpy 1.19.3 which is incompatible.\n",
      "tensorflow 2.3.0 requires tensorflow-estimator<2.4.0,>=2.3.0, but you have tensorflow-estimator 2.6.0 which is incompatible.\n"
     ]
    }
   ],
   "source": [
    "!pip install keras==2.4.3 numpy==1.19.3 pillow==7.0.0 scipy==1.4.1 h5py==2.10.0 matplotlib==3.3.2 opencv-python keras-resnet==0.2.0\n"
   ]
  },
  {
   "cell_type": "code",
   "execution_count": null,
   "id": "322c111b",
   "metadata": {},
   "outputs": [],
   "source": [
    "import cv2\n",
    "import numpy as np\n",
    "import imutils\n",
    "\n",
    "video='28.mp4'\n",
    "\n",
    "# Create a VideoCapture object and read from input file\n",
    "# If the input is the camera, pass 0 instead of the video file name\n",
    "cap = cv2.VideoCapture(video)\n",
    "cnt=0\n",
    "\n",
    "# Check if camera opened successfully\n",
    "if (cap.isOpened()== False): \n",
    "  print(\"Error opening video stream or file\")\n",
    "\n",
    "ret,first_frame = cap.read()\n",
    "\n",
    "# Read until video is completed\n",
    "while(cap.isOpened()):\n",
    "    \n",
    "  # Capture frame-by-frame\n",
    "  ret, frame = cap.read()\n",
    "     \n",
    "  if ret == True:\n",
    "    \n",
    "    #removing scorecard\n",
    "    roi = frame[:800,:]\n",
    "    \n",
    "    #cropping center of an image\n",
    "    thresh=600\n",
    "    end = roi.shape[1] - thresh\n",
    "    roi = roi[:,thresh:end]\n",
    "    \n",
    "    cv2.imshow(\"image\",roi)\n",
    "    # Press Q on keyboard to  exit\n",
    "    if cv2.waitKey(25) & 0xFF == ord('q'):\n",
    "      break\n",
    "\n",
    "    cv2.imwrite('frames/'+str(cnt)+'.png',roi)\n",
    "    cnt=cnt+1\n",
    "\n",
    "  # Break the loop\n",
    "  else: \n",
    "    break\n",
    "\n",
    "cv2.destroyAllWindows()    "
   ]
  },
  {
   "cell_type": "code",
   "execution_count": null,
   "id": "78705ff3",
   "metadata": {},
   "outputs": [],
   "source": [
    "import matplotlib.pyplot as plt\n",
    "import cv2\n",
    "import numpy as np\n",
    "import os\n",
    "import re\n",
    "\n",
    "#listing down all the file names\n",
    "frames = os.listdir('frames/')\n",
    "frames.sort(key=lambda f: int(re.sub('\\D', '', f)))\n",
    "\n",
    "#reading frames\n",
    "images=[]\n",
    "for i in frames:\n",
    "    img = cv2.imread('frames/'+i)\n",
    "    img = cv2.cvtColor(img, cv2.COLOR_BGR2GRAY)\n",
    "    img = cv2.GaussianBlur(img,(25,25),0)\n",
    "    images.append(img)\n",
    "\n",
    "images=np.array(images)"
   ]
  },
  {
   "cell_type": "code",
   "execution_count": null,
   "id": "a9f1fa20",
   "metadata": {},
   "outputs": [],
   "source": [
    "nonzero=[]\n",
    "for i in range((len(images)-1)):\n",
    "    \n",
    "    mask = cv2.absdiff(images[i],images[i+1])\n",
    "    _ , mask = cv2.threshold(mask, 50, 255, cv2.THRESH_BINARY)\n",
    "    num = np.count_nonzero((mask.ravel()))\n",
    "    nonzero.append(num)\n",
    "    \n",
    "    \n",
    "x = np.arange(0,len(images)-1)\n",
    "y = nonzero\n",
    "\n",
    "plt.figure(figsize=(20,4))\n",
    "plt.scatter(x,y)"
   ]
  },
  {
   "cell_type": "code",
   "execution_count": null,
   "id": "565fa1b6",
   "metadata": {},
   "outputs": [],
   "source": [
    "threshold = 15 * 10e3\n",
    "for i in range(len(images)-1):\n",
    "    if(nonzero[i]>threshold): \n",
    "        scene_change_idx = i\n",
    "        break\n",
    "        \n",
    "frames = frames[:(scene_change_idx+1)]\n"
   ]
  },
  {
   "cell_type": "code",
   "execution_count": null,
   "id": "435c0fb2",
   "metadata": {},
   "outputs": [],
   "source": [
    "img= cv2.imread('frames/' + frames[10])\n",
    "gray = cv2.cvtColor(img, cv2.COLOR_BGR2GRAY)\n",
    "gray = cv2.GaussianBlur(gray,(25,25),0)\n",
    "\n",
    "plt.figure(figsize=(5,10))\n",
    "plt.imshow(gray,cmap='gray')"
   ]
  },
  {
   "cell_type": "code",
   "execution_count": null,
   "id": "f1035720",
   "metadata": {},
   "outputs": [],
   "source": [
    "_ , mask = cv2.threshold(gray, 200, 255, cv2.THRESH_BINARY)\n",
    "\n",
    "plt.figure(figsize=(5,5))\n",
    "plt.imshow(mask,cmap='gray')"
   ]
  },
  {
   "cell_type": "code",
   "execution_count": null,
   "id": "ab08b8d7",
   "metadata": {},
   "outputs": [],
   "source": [
    "image, contours, _ = cv2.findContours(mask, cv2.RETR_TREE, cv2.CHAIN_APPROX_SIMPLE)"
   ]
  },
  {
   "cell_type": "code",
   "execution_count": null,
   "id": "ba09e797",
   "metadata": {},
   "outputs": [],
   "source": [
    "img_copy = np.copy(gray)\n",
    "cv2.drawContours(img_copy, contours, -1, (0,255,0), 3)\n",
    "plt.imshow(img_copy, cmap='gray')"
   ]
  },
  {
   "cell_type": "code",
   "execution_count": null,
   "id": "a301c184",
   "metadata": {},
   "outputs": [],
   "source": [
    "!rm -r patch/*\n",
    "\n",
    "num=20\n",
    "cnt=0\n",
    "for i in range(len(contours)):\n",
    "    x,y,w,h = cv2.boundingRect(contours[i])\n",
    "    \n",
    "    numer=min([w,h])\n",
    "    denom=max([w,h])\n",
    "    ratio=numer/denom\n",
    "\n",
    "    if(x>=num and y>=num):\n",
    "        xmin, ymin= x-num, y-num\n",
    "        xmax, ymax= x+w+num, y+h+num\n",
    "    else:\n",
    "        xmin, ymin=x, y\n",
    "        xmax, ymax=x+w, y+h\n",
    "\n",
    "    if(ratio>=0.5 and ((w<=10) and (h<=10)) ):    \n",
    "        print(cnt,x,y,w,h,ratio)\n",
    "        cv2.imwrite(\"patch/\"+str(cnt)+\".png\",img[ymin:ymax,xmin:xmax])\n",
    "        cnt=cnt+1"
   ]
  },
  {
   "cell_type": "code",
   "execution_count": null,
   "id": "3a389bf5",
   "metadata": {},
   "outputs": [],
   "source": [
    "import os\n",
    "import cv2\n",
    "import numpy as np\n",
    "import pandas as pd\n",
    "folders=os.listdir('data/')\n",
    "\n",
    "images=[]\n",
    "labels= []\n",
    "for folder in folders:\n",
    "    files=os.listdir('data/'+folder)\n",
    "    for file in files:\n",
    "        img=cv2.imread('data/'+folder+'/'+file,0)\n",
    "        img=cv2.resize(img,(25,25))\n",
    "        \n",
    "        images.append(img)\n",
    "        labels.append(int(folder))\n",
    "\n",
    "images = np.array(images)\n",
    "features = images.reshape(len(images),-1)"
   ]
  },
  {
   "cell_type": "code",
   "execution_count": null,
   "id": "f9170d20",
   "metadata": {},
   "outputs": [],
   "source": [
    "from sklearn.model_selection import train_test_split\n",
    "x_tr,x_val,y_tr,y_val = train_test_split(features,labels, test_size=0.2, stratify=labels,random_state=0)"
   ]
  },
  {
   "cell_type": "code",
   "execution_count": null,
   "id": "31910be7",
   "metadata": {},
   "outputs": [],
   "source": [
    "from sklearn.ensemble import RandomForestClassifier \n",
    "rfc = RandomForestClassifier(max_depth=3) \n",
    "rfc.fit(x_tr,y_tr)"
   ]
  },
  {
   "cell_type": "code",
   "execution_count": null,
   "id": "957a5d10",
   "metadata": {},
   "outputs": [],
   "source": [
    "from sklearn.metrics import classification_report\n",
    "y_pred = rfc.predict(x_val)\n",
    "print(classification_report(y_val,y_pred))"
   ]
  },
  {
   "cell_type": "code",
   "execution_count": null,
   "id": "6cad1d62",
   "metadata": {},
   "outputs": [],
   "source": [
    "!rm -r ball/*\n",
    "ball_df = pd.DataFrame(columns=['frame','x','y','w','h'])\n",
    "\n",
    "for idx in range(len(frames)):\n",
    "    \n",
    "    img= cv2.imread('frames/' + frames[idx])\n",
    "    gray = cv2.cvtColor(img, cv2.COLOR_BGR2GRAY)\n",
    "    gray = cv2.GaussianBlur(gray,(25, 25),0)\n",
    "    _ , mask = cv2.threshold(gray, 200, 255, cv2.THRESH_BINARY)\n",
    "    image, contours, _ = cv2.findContours(mask, cv2.RETR_TREE, cv2.CHAIN_APPROX_SIMPLE)\n",
    "    \n",
    "    !rm -r patch/*\n",
    "\n",
    "    num=20\n",
    "    cnt=0\n",
    "    df = pd.DataFrame(columns=['frame','x','y','w','h'])\n",
    "    for i in range(len(contours)):\n",
    "        x,y,w,h = cv2.boundingRect(contours[i])\n",
    "\n",
    "        numer=min([w,h])\n",
    "        denom=max([w,h])\n",
    "        ratio=numer/denom\n",
    "\n",
    "        if(x>=num and y>=num):\n",
    "            xmin, ymin= x-num, y-num\n",
    "            xmax, ymax= x+w+num, y+h+num\n",
    "        else:\n",
    "            xmin, ymin= x,y\n",
    "            xmax, ymax= x+w, y+h\n",
    "\n",
    "        if(ratio>=0.5):    \n",
    "            #print(cnt,x,y,w,h,ratio)\n",
    "            df.loc[cnt,'frame'] = frames[idx]\n",
    "            df.loc[cnt,'x']=x\n",
    "            df.loc[cnt,'y']=y\n",
    "            df.loc[cnt,'w']=w\n",
    "            df.loc[cnt,'h']=h\n",
    "            \n",
    "            cv2.imwrite(\"patch/\"+str(cnt)+\".png\",img[ymin:ymax,xmin:xmax])\n",
    "            cnt=cnt+1\n",
    "    \n",
    "    \n",
    "    files=os.listdir('patch/')    \n",
    "    if(len(files)>0):\n",
    "    \n",
    "        files.sort(key=lambda f: int(re.sub('\\D', '', f)))\n",
    "\n",
    "        test=[]\n",
    "        for file in files:\n",
    "            img=cv2.imread('patch/'+file,0)\n",
    "            img=cv2.resize(img,(25,25))\n",
    "            test.append(img)\n",
    "\n",
    "        test = np.array(test)\n",
    "\n",
    "        test = test.reshape(len(test),-1)\n",
    "        y_pred = rfc.predict(test)\n",
    "        prob=rfc.predict_proba(test)\n",
    "\n",
    "        if 0 in y_pred:\n",
    "            ind = np.where(y_pred==0)[0]\n",
    "            proba = prob[:,0]\n",
    "            confidence = proba[ind]\n",
    "            confidence = [i for i in confidence if i>0.7]\n",
    "            if(len(confidence)>0):\n",
    "\n",
    "                maximum = max(confidence)\n",
    "                ball_file=files[list(proba).index(maximum)]\n",
    "\n",
    "                img= cv2.imread('patch/'+ball_file)\n",
    "                cv2.imwrite('ball/'+str(frames[idx]),img)\n",
    "\n",
    "                no = int(ball_file.split(\".\")[0])\n",
    "                ball_df.loc[idx]= df.loc[no]\n",
    "            else:\n",
    "                ball_df.loc[idx,'frame']=frames[idx]\n",
    "\n",
    "        else:\n",
    "            ball_df.loc[idx,'frame']=frames[idx]"
   ]
  },
  {
   "cell_type": "code",
   "execution_count": null,
   "id": "76444616",
   "metadata": {},
   "outputs": [],
   "source": [
    "ball_df.dropna(inplace=True)\n",
    "print(ball_df)"
   ]
  },
  {
   "cell_type": "code",
   "execution_count": null,
   "id": "37b94807",
   "metadata": {},
   "outputs": [],
   "source": [
    "files = ball_df['frame'].values\n",
    "\n",
    "num=10\n",
    "for idx in range(len(files)):\n",
    "    \n",
    "    #draw contours \n",
    "    img = cv2.imread('frames/'+files[idx])\n",
    "    \n",
    "    x=ball_df.loc[idx,'x']\n",
    "    y=ball_df.loc[idx,'y']\n",
    "    w=ball_df.loc[idx,'w']\n",
    "    h=ball_df.loc[idx,'h']\n",
    "    \n",
    "    xmin=x-num\n",
    "    ymin=y-num\n",
    "    xmax=x+w+num\n",
    "    ymax=y+h+num\n",
    "\n",
    "    cv2.rectangle(img, (xmin, ymin), (xmax, ymax), (255,0,0), 2)\n",
    "    cv2.imwrite(\"frames/\"+files[idx],img)       "
   ]
  },
  {
   "cell_type": "code",
   "execution_count": null,
   "id": "7f4d6810",
   "metadata": {},
   "outputs": [],
   "source": [
    "frames = os.listdir('frames/')\n",
    "frames.sort(key=lambda f: int(re.sub('\\D', '', f)))\n",
    "\n",
    "frame_array=[]\n",
    "\n",
    "for i in range(len(frames)):\n",
    "    #reading each files\n",
    "    img = cv2.imread('frames/'+frames[i])\n",
    "    height, width, layers = img.shape\n",
    "    size = (width,height)\n",
    "    #inserting the frames into an image array\n",
    "    frame_array.append(img)\n",
    "\n",
    "out = cv2.VideoWriter('28.mp4',cv2.VideoWriter_fourcc(*'DIVX'), 25, size)\n",
    " \n",
    "for i in range(len(frame_array)):\n",
    "    # writing to a image array\n",
    "    out.write(frame_array[i])\n",
    "out.release()"
   ]
  }
 ],
 "metadata": {
  "kernelspec": {
   "display_name": "Python 3 (ipykernel)",
   "language": "python",
   "name": "python3"
  },
  "language_info": {
   "codemirror_mode": {
    "name": "ipython",
    "version": 3
   },
   "file_extension": ".py",
   "mimetype": "text/x-python",
   "name": "python",
   "nbconvert_exporter": "python",
   "pygments_lexer": "ipython3",
   "version": "3.9.13"
  }
 },
 "nbformat": 4,
 "nbformat_minor": 5
}
